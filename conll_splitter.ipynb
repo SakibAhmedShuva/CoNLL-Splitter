{
 "cells": [
  {
   "cell_type": "code",
   "execution_count": 45,
   "metadata": {},
   "outputs": [],
   "source": [
    "def split_conll(conll_file: str, output_dir: str, ratio: Tuple[float, float, float] = (0.8, 0.1, 0.1)):\n",
    "    # Ensure the output directory exists\n",
    "    os.makedirs(output_dir, exist_ok=True)\n",
    "\n",
    "    # Check if the sum of ratios is valid\n",
    "    if sum(ratio) > 1.0:\n",
    "        raise ValueError(\"The sum of the split ratios exceeds 1.0. Please provide valid ratios.\")\n",
    "\n",
    "    with open(conll_file, 'r', encoding='utf-8') as f:\n",
    "        # Read the entire conll file and split by blank lines (indicating a new sentence)\n",
    "        data = f.read().strip().split('\\n\\n')\n",
    "\n",
    "    # Check and retain the first line (-DOCSTART- line) in all sets\n",
    "    doc_start = data[0] if data[0].startswith(\"-DOCSTART-\") else None\n",
    "    if doc_start:\n",
    "        data = data[1:]  # Remove -DOCSTART- for further splitting\n",
    "\n",
    "    # Shuffle the data to randomize the split\n",
    "    random.shuffle(data)\n",
    "\n",
    "    # Calculate split indices\n",
    "    total_length = len(data)\n",
    "    train_end_idx = int(total_length * ratio[0])\n",
    "    dev_end_idx = train_end_idx + int(total_length * ratio[1])\n",
    "\n",
    "    # Split data based on the calculated indices and ratio values\n",
    "    train_data = data[:train_end_idx] if ratio[0] > 0 else []\n",
    "    dev_data = data[train_end_idx:dev_end_idx] if ratio[1] > 0 else []\n",
    "    test_data = data[dev_end_idx:] if ratio[2] > 0 else []\n",
    "\n",
    "    # Add back -DOCSTART- at the start of each split if it exists\n",
    "    if doc_start:\n",
    "        if train_data:\n",
    "            train_data.insert(0, doc_start)\n",
    "        if dev_data:\n",
    "            dev_data.insert(0, doc_start)\n",
    "        if test_data:\n",
    "            test_data.insert(0, doc_start)\n",
    "\n",
    "    # Write to output files based on presence of data\n",
    "    files_created = []\n",
    "    if train_data:\n",
    "        write_to_file(os.path.join(output_dir, 'train.conll'), train_data)\n",
    "        files_created.append(('train.conll', len(train_data)))\n",
    "    if dev_data:\n",
    "        write_to_file(os.path.join(output_dir, 'dev.conll'), dev_data)\n",
    "        files_created.append(('dev.conll', len(dev_data)))\n",
    "    if test_data:\n",
    "        write_to_file(os.path.join(output_dir, 'test.conll'), test_data)\n",
    "        files_created.append(('test.conll', len(test_data)))\n",
    "\n",
    "    print(\"Split complete. Files created:\")\n",
    "    for file, count in files_created:\n",
    "        print(f\"- {file}: {count} sentences\")\n",
    "    \n",
    "    if len(files_created) < 3:\n",
    "        print(\"\\nNote: Not all splits were created due to the provided ratios.\")\n",
    "        if ratio[2] == 0:\n",
    "            print(\"The test split was not created because its ratio was set to 0.\")"
   ]
  },
  {
   "cell_type": "code",
   "execution_count": 46,
   "metadata": {},
   "outputs": [
    {
     "name": "stdout",
     "output_type": "stream",
     "text": [
      "Split complete. Files created:\n",
      "- train.conll: 109 sentences\n",
      "- dev.conll: 37 sentences\n",
      "- test.conll: 37 sentences\n"
     ]
    }
   ],
   "source": [
    "conll_file = r\"c:\\Users\\Sakib Ahmed\\Desktop\\dev_combined.conll\"\n",
    "output_dir = r\"c:\\Users\\Sakib Ahmed\\Desktop\"\n",
    "split_conll(conll_file, output_dir, ratio=(0.6, 0.2, .2))  # Only training and validation, no test"
   ]
  },
  {
   "cell_type": "code",
   "execution_count": 47,
   "metadata": {},
   "outputs": [
    {
     "name": "stdout",
     "output_type": "stream",
     "text": [
      "Split complete. Files created:\n",
      "- train.conll: 145 sentences\n",
      "- dev.conll: 37 sentences\n",
      "\n",
      "Note: Not all splits were created due to the provided ratios.\n",
      "The test split was not created because its ratio was set to 0.\n"
     ]
    }
   ],
   "source": [
    "conll_file = r\"c:\\Users\\Sakib Ahmed\\Desktop\\dev_combined.conll\"\n",
    "output_dir = r\"c:\\Users\\Sakib Ahmed\\Desktop\"\n",
    "split_conll(conll_file, output_dir, ratio=(0.8, 0.2, .0))  # Only training and validation, no test"
   ]
  }
 ],
 "metadata": {
  "kernelspec": {
   "display_name": "Python 3",
   "language": "python",
   "name": "python3"
  },
  "language_info": {
   "codemirror_mode": {
    "name": "ipython",
    "version": 3
   },
   "file_extension": ".py",
   "mimetype": "text/x-python",
   "name": "python",
   "nbconvert_exporter": "python",
   "pygments_lexer": "ipython3",
   "version": "3.12.7"
  }
 },
 "nbformat": 4,
 "nbformat_minor": 2
}
